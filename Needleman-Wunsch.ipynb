{
 "cells": [
  {
   "cell_type": "code",
   "execution_count": 26,
   "metadata": {},
   "outputs": [
    {
     "name": "stdout",
     "output_type": "stream",
     "text": [
      "Sequence 1:ACTATC\n",
      "Sequence 2:ATCATC\n",
      "ACTATC\n",
      "ATCATC\n",
      "[0\t-2\t-4\t-6\t-8\t-10\t-12]\n",
      "\n",
      "[-2\t2\t0\t-2\t-4\t-6\t-8]\n",
      "\n",
      "[-4\t0\t1\t2\t0\t-2\t-4]\n",
      "\n",
      "[-6\t-2\t2\t0\t1\t-1\t0]\n",
      "\n",
      "[-8\t-4\t0\t1\t2\t0\t-2]\n",
      "\n",
      "[-10\t-6\t-2\t2\t0\t4\t2]\n",
      "\n",
      "[-12\t-8\t-4\t0\t1\t2\t6]\n",
      "\n"
     ]
    }
   ],
   "source": [
    "# Use these values to calculate scores\n",
    "gap_penalty = -2\n",
    "match_award = 2\n",
    "mismatch_penalty = -1\n",
    "\n",
    "# Make a score matrix with these two sequences\n",
    "seq1 = input(\"Sequence 1:\")\n",
    "seq2 = input(\"Sequence 2:\")\n",
    "\n",
    "def print_matrix(mat):\n",
    "    # Loop over all rows\n",
    "    for i in range(0, len(mat)):\n",
    "        print(\"[\", end = \"\")\n",
    "        # Loop over each column in row i\n",
    "        for j in range(0, len(mat[i])):\n",
    "            # Print out the value in row i, column j\n",
    "            print(mat[i][j], end = \"\")\n",
    "            # Only add a tab if we're not in the last column\n",
    "            if j != len(mat[i]) - 1:\n",
    "                print(\"\\t\", end = \"\")\n",
    "        print(\"]\\n\")\n",
    "\n",
    "# A function for making a matrix of zeroes\n",
    "def zeros(rows, cols):\n",
    "    # Define an empty list\n",
    "    retval = []\n",
    "    # Set up the rows of the matrix\n",
    "    for x in range(rows):\n",
    "        # For each row, add an empty list\n",
    "        retval.append([])\n",
    "        # Set up the columns in each row\n",
    "        for y in range(cols):\n",
    "            # Add a zero to each column in each row\n",
    "            retval[-1].append(0)\n",
    "    # Return the matrix of zeros\n",
    "    return retval\n",
    "\n",
    "# A function for determining the score between any two bases in alignment\n",
    "def match_score(alpha, beta):\n",
    "    if alpha == beta:\n",
    "        return match_award\n",
    "    elif alpha == '-' or beta == '-':\n",
    "        return gap_penalty\n",
    "    else:\n",
    "        return mismatch_penalty\n",
    "\n",
    "# The function that actually fills out a matrix of scores\n",
    "def needleman_wunsch(seq1, seq2):\n",
    "    \n",
    "    # Store length of two sequences\n",
    "    n = len(seq1)  \n",
    "    m = len(seq2)\n",
    "    \n",
    "    # Generate matrix of zeros to store scores\n",
    "    score = zeros(m+1, n+1)\n",
    "   \n",
    "    # Calculate score table\n",
    "    \n",
    "    # Fill out first column\n",
    "    for i in range(0, m + 1):\n",
    "        score[i][0] = gap_penalty * i\n",
    "    \n",
    "    # Fill out first row\n",
    "    for j in range(0, n + 1):\n",
    "        score[0][j] = gap_penalty * j\n",
    "    \n",
    "    # Fill out all other values in the score matrix\n",
    "    for i in range(1, m + 1):\n",
    "        for j in range(1, n + 1):\n",
    "            # Calculate the score by checking the top, left, and diagonal cells\n",
    "            match = score[i - 1][j - 1] + match_score(seq1[j-1], seq2[i-1])\n",
    "            delete = score[i - 1][j] + gap_penalty\n",
    "            insert = score[i][j - 1] + gap_penalty\n",
    "            # Record the maximum score from the three possible scores calculated above\n",
    "            score[i][j] = max(match, delete, insert)\n",
    "    \n",
    "    # Traceback and compute the alignment \n",
    "    \n",
    "    # Create variables to store alignment\n",
    "    align1 = \"\"\n",
    "    align2 = \"\"\n",
    "    \n",
    "    # Start from the bottom right cell in matrix\n",
    "    i = m\n",
    "    j = n\n",
    "    \n",
    "    # We'll use i and j to keep track of where we are in the matrix, just like above\n",
    "    while i > 0 and j > 0: # end touching the top or the left edge\n",
    "        score_current = score[i][j]\n",
    "        score_diagonal = score[i-1][j-1]\n",
    "        score_up = score[i][j-1]\n",
    "        score_left = score[i-1][j]\n",
    "        \n",
    "        # Check to figure out which cell the current score was calculated from,\n",
    "        # then update i and j to correspond to that cell.\n",
    "        if score_current == score_diagonal + match_score(seq1[j-1], seq2[i-1]):\n",
    "            align1 += seq1[j-1]\n",
    "            align2 += seq2[i-1]\n",
    "            i -= 1\n",
    "            j -= 1\n",
    "        elif score_current == score_up + gap_penalty:\n",
    "            align1 += seq1[j-1]\n",
    "            align2 += '-'\n",
    "            j -= 1\n",
    "        elif score_current == score_left + gap_penalty:\n",
    "            align1 += '-'\n",
    "            align2 += seq2[i-1]\n",
    "            i -= 1\n",
    "\n",
    "    # Finish tracing up to the top left cell\n",
    "    while j > 0:\n",
    "        align1 += seq1[j-1]\n",
    "        align2 += '-'\n",
    "        j -= 1\n",
    "    while i > 0:\n",
    "        align1 += '-'\n",
    "        align2 += seq2[i-1]\n",
    "        i -= 1\n",
    "    \n",
    "    # Since we traversed the score matrix from the bottom right, our two sequences will be reversed.\n",
    "    # These two lines reverse the order of the characters in each sequence.\n",
    "    align1 = align1[::-1]\n",
    "    align2 = align2[::-1]\n",
    "    \n",
    "    return(align1, align2,score)\n",
    "\n",
    "output1, output2, scr = needleman_wunsch(seq1, seq2)\n",
    "\n",
    "print(output1 + \"\\n\" + output2)\n",
    "print_matrix(scr)"
   ]
  },
  {
   "cell_type": "code",
   "execution_count": null,
   "metadata": {},
   "outputs": [],
   "source": []
  },
  {
   "cell_type": "code",
   "execution_count": null,
   "metadata": {},
   "outputs": [],
   "source": []
  },
  {
   "cell_type": "code",
   "execution_count": null,
   "metadata": {},
   "outputs": [],
   "source": []
  },
  {
   "cell_type": "code",
   "execution_count": null,
   "metadata": {},
   "outputs": [],
   "source": []
  },
  {
   "cell_type": "code",
   "execution_count": null,
   "metadata": {},
   "outputs": [],
   "source": []
  },
  {
   "cell_type": "code",
   "execution_count": null,
   "metadata": {},
   "outputs": [],
   "source": []
  },
  {
   "cell_type": "code",
   "execution_count": null,
   "metadata": {},
   "outputs": [],
   "source": []
  },
  {
   "cell_type": "code",
   "execution_count": null,
   "metadata": {},
   "outputs": [],
   "source": []
  },
  {
   "cell_type": "code",
   "execution_count": null,
   "metadata": {},
   "outputs": [],
   "source": []
  },
  {
   "cell_type": "code",
   "execution_count": null,
   "metadata": {},
   "outputs": [],
   "source": []
  },
  {
   "cell_type": "code",
   "execution_count": null,
   "metadata": {},
   "outputs": [],
   "source": []
  },
  {
   "cell_type": "code",
   "execution_count": null,
   "metadata": {},
   "outputs": [],
   "source": []
  },
  {
   "cell_type": "code",
   "execution_count": null,
   "metadata": {},
   "outputs": [],
   "source": []
  },
  {
   "cell_type": "code",
   "execution_count": null,
   "metadata": {},
   "outputs": [],
   "source": []
  },
  {
   "cell_type": "code",
   "execution_count": null,
   "metadata": {},
   "outputs": [],
   "source": []
  },
  {
   "cell_type": "code",
   "execution_count": null,
   "metadata": {},
   "outputs": [],
   "source": []
  },
  {
   "cell_type": "code",
   "execution_count": null,
   "metadata": {},
   "outputs": [],
   "source": []
  },
  {
   "cell_type": "code",
   "execution_count": null,
   "metadata": {},
   "outputs": [],
   "source": []
  },
  {
   "cell_type": "code",
   "execution_count": null,
   "metadata": {},
   "outputs": [],
   "source": []
  },
  {
   "cell_type": "code",
   "execution_count": null,
   "metadata": {},
   "outputs": [],
   "source": []
  },
  {
   "cell_type": "code",
   "execution_count": null,
   "metadata": {},
   "outputs": [],
   "source": []
  },
  {
   "cell_type": "code",
   "execution_count": null,
   "metadata": {},
   "outputs": [],
   "source": []
  },
  {
   "cell_type": "code",
   "execution_count": null,
   "metadata": {},
   "outputs": [],
   "source": []
  },
  {
   "cell_type": "code",
   "execution_count": null,
   "metadata": {},
   "outputs": [],
   "source": []
  },
  {
   "cell_type": "code",
   "execution_count": null,
   "metadata": {},
   "outputs": [],
   "source": []
  },
  {
   "cell_type": "code",
   "execution_count": null,
   "metadata": {},
   "outputs": [],
   "source": []
  },
  {
   "cell_type": "code",
   "execution_count": null,
   "metadata": {},
   "outputs": [],
   "source": []
  },
  {
   "cell_type": "code",
   "execution_count": null,
   "metadata": {},
   "outputs": [],
   "source": []
  },
  {
   "cell_type": "code",
   "execution_count": null,
   "metadata": {},
   "outputs": [],
   "source": []
  },
  {
   "cell_type": "code",
   "execution_count": null,
   "metadata": {},
   "outputs": [],
   "source": []
  },
  {
   "cell_type": "code",
   "execution_count": null,
   "metadata": {},
   "outputs": [],
   "source": []
  },
  {
   "cell_type": "code",
   "execution_count": null,
   "metadata": {},
   "outputs": [],
   "source": []
  }
 ],
 "metadata": {
  "kernelspec": {
   "display_name": "Python 3",
   "language": "python",
   "name": "python3"
  },
  "language_info": {
   "codemirror_mode": {
    "name": "ipython",
    "version": 3
   },
   "file_extension": ".py",
   "mimetype": "text/x-python",
   "name": "python",
   "nbconvert_exporter": "python",
   "pygments_lexer": "ipython3",
   "version": "3.7.3"
  }
 },
 "nbformat": 4,
 "nbformat_minor": 2
}
